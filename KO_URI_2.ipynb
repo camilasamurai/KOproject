{
  "nbformat": 4,
  "nbformat_minor": 0,
  "metadata": {
    "colab": {
      "name": "KO_URI-2.ipynb",
      "provenance": [],
      "authorship_tag": "ABX9TyMJfLI1q+7XG9rsmzdG+hy/",
      "include_colab_link": true
    },
    "kernelspec": {
      "name": "python3",
      "display_name": "Python 3"
    },
    "language_info": {
      "name": "python"
    }
  },
  "cells": [
    {
      "cell_type": "markdown",
      "metadata": {
        "id": "view-in-github",
        "colab_type": "text"
      },
      "source": [
        "<a href=\"https://colab.research.google.com/github/camilasamurai/KOproject/blob/main/KO_URI_2.ipynb\" target=\"_parent\"><img src=\"https://colab.research.google.com/assets/colab-badge.svg\" alt=\"Open In Colab\"/></a>"
      ]
    },
    {
      "cell_type": "code",
      "execution_count": 1,
      "metadata": {
        "colab": {
          "base_uri": "https://localhost:8080/"
        },
        "id": "AwNqPHc2-dAw",
        "outputId": "72338894-9bf0-459c-e4a7-9c8af7e92419"
      },
      "outputs": [
        {
          "output_type": "stream",
          "name": "stdout",
          "text": [
            "Collecting rdflib\n",
            "  Downloading rdflib-6.1.1-py3-none-any.whl (482 kB)\n",
            "\u001b[K     |████████████████████████████████| 482 kB 4.4 MB/s \n",
            "\u001b[?25hRequirement already satisfied: setuptools in /usr/local/lib/python3.7/dist-packages (from rdflib) (57.4.0)\n",
            "Collecting isodate\n",
            "  Downloading isodate-0.6.1-py2.py3-none-any.whl (41 kB)\n",
            "\u001b[K     |████████████████████████████████| 41 kB 230 kB/s \n",
            "\u001b[?25hRequirement already satisfied: importlib-metadata in /usr/local/lib/python3.7/dist-packages (from rdflib) (4.11.3)\n",
            "Requirement already satisfied: pyparsing in /usr/local/lib/python3.7/dist-packages (from rdflib) (3.0.8)\n",
            "Requirement already satisfied: zipp>=0.5 in /usr/local/lib/python3.7/dist-packages (from importlib-metadata->rdflib) (3.8.0)\n",
            "Requirement already satisfied: typing-extensions>=3.6.4 in /usr/local/lib/python3.7/dist-packages (from importlib-metadata->rdflib) (4.2.0)\n",
            "Requirement already satisfied: six in /usr/local/lib/python3.7/dist-packages (from isodate->rdflib) (1.15.0)\n",
            "Installing collected packages: isodate, rdflib\n",
            "Successfully installed isodate-0.6.1 rdflib-6.1.1\n",
            "Requirement already satisfied: pandas in /usr/local/lib/python3.7/dist-packages (1.3.5)\n",
            "Requirement already satisfied: numpy>=1.17.3 in /usr/local/lib/python3.7/dist-packages (from pandas) (1.21.6)\n",
            "Requirement already satisfied: python-dateutil>=2.7.3 in /usr/local/lib/python3.7/dist-packages (from pandas) (2.8.2)\n",
            "Requirement already satisfied: pytz>=2017.3 in /usr/local/lib/python3.7/dist-packages (from pandas) (2022.1)\n",
            "Requirement already satisfied: six>=1.5 in /usr/local/lib/python3.7/dist-packages (from python-dateutil>=2.7.3->pandas) (1.15.0)\n"
          ]
        }
      ],
      "source": [
        "!pip install rdflib\n",
        "!pip install pandas"
      ]
    },
    {
      "cell_type": "code",
      "source": [
        "from rdflib import Graph, Literal, RDF, URIRef, Namespace # basic RDF handling\n",
        "from rdflib.namespace import FOAF , XSD, RDF, RDFS # most common namespaces\n",
        "import pandas as pd\n",
        "import re\n",
        "import unicodedata"
      ],
      "metadata": {
        "id": "nW0O8vGy_c2m"
      },
      "execution_count": 2,
      "outputs": []
    },
    {
      "cell_type": "code",
      "source": [
        "df = pd.read_csv('https://raw.githubusercontent.com/camilasamurai/KOproject/main/Frida%20Kahlo%20an%20open%20life.csv', sep=',', encoding='ISO-8859-1')  \n"
      ],
      "metadata": {
        "id": "SBG2mqoh_hAu"
      },
      "execution_count": 7,
      "outputs": []
    },
    {
      "cell_type": "code",
      "source": [
        "df"
      ],
      "metadata": {
        "colab": {
          "base_uri": "https://localhost:8080/",
          "height": 269
        },
        "id": "MnfauHpBA8bR",
        "outputId": "058f19cc-11e7-4d94-b935-8cdf916fc9c2"
      },
      "execution_count": 8,
      "outputs": [
        {
          "output_type": "execute_result",
          "data": {
            "text/plain": [
              "                      Subject                Predicate  \\\n",
              "0  Frida Kahlo : an open life            dcterm: title   \n",
              "1  Frida Kahlo : an open life             dcterm: type   \n",
              "2  Frida Kahlo : an open life          dcterm: created   \n",
              "3  Frida Kahlo : an open life       Schema.org: Author   \n",
              "4  Frida Kahlo : an open life         dcterm: isPartOf   \n",
              "5  Frida Kahlo : an open life  Schema.org: publishedBy   \n",
              "6  Frida Kahlo : an open life         dcterm: language   \n",
              "\n",
              "                                              Object  \n",
              "0                         Frida Kahlo : an open life  \n",
              "1                 https://www.wikidata.org/wiki/Q571  \n",
              "2                                               1993  \n",
              "3             https://www.wikidata.org/wiki/Q6100511  \n",
              "4                   https://viaf.org/viaf/307472291/  \n",
              "5  https://www.worldcat.org/identities/lccn-no200...  \n",
              "6                https://www.wikidata.org/wiki/Q1860  "
            ],
            "text/html": [
              "\n",
              "  <div id=\"df-7591d0e2-964d-497e-b443-7255f2693e06\">\n",
              "    <div class=\"colab-df-container\">\n",
              "      <div>\n",
              "<style scoped>\n",
              "    .dataframe tbody tr th:only-of-type {\n",
              "        vertical-align: middle;\n",
              "    }\n",
              "\n",
              "    .dataframe tbody tr th {\n",
              "        vertical-align: top;\n",
              "    }\n",
              "\n",
              "    .dataframe thead th {\n",
              "        text-align: right;\n",
              "    }\n",
              "</style>\n",
              "<table border=\"1\" class=\"dataframe\">\n",
              "  <thead>\n",
              "    <tr style=\"text-align: right;\">\n",
              "      <th></th>\n",
              "      <th>Subject</th>\n",
              "      <th>Predicate</th>\n",
              "      <th>Object</th>\n",
              "    </tr>\n",
              "  </thead>\n",
              "  <tbody>\n",
              "    <tr>\n",
              "      <th>0</th>\n",
              "      <td>Frida Kahlo : an open life</td>\n",
              "      <td>dcterm: title</td>\n",
              "      <td>Frida Kahlo : an open life</td>\n",
              "    </tr>\n",
              "    <tr>\n",
              "      <th>1</th>\n",
              "      <td>Frida Kahlo : an open life</td>\n",
              "      <td>dcterm: type</td>\n",
              "      <td>https://www.wikidata.org/wiki/Q571</td>\n",
              "    </tr>\n",
              "    <tr>\n",
              "      <th>2</th>\n",
              "      <td>Frida Kahlo : an open life</td>\n",
              "      <td>dcterm: created</td>\n",
              "      <td>1993</td>\n",
              "    </tr>\n",
              "    <tr>\n",
              "      <th>3</th>\n",
              "      <td>Frida Kahlo : an open life</td>\n",
              "      <td>Schema.org: Author</td>\n",
              "      <td>https://www.wikidata.org/wiki/Q6100511</td>\n",
              "    </tr>\n",
              "    <tr>\n",
              "      <th>4</th>\n",
              "      <td>Frida Kahlo : an open life</td>\n",
              "      <td>dcterm: isPartOf</td>\n",
              "      <td>https://viaf.org/viaf/307472291/</td>\n",
              "    </tr>\n",
              "    <tr>\n",
              "      <th>5</th>\n",
              "      <td>Frida Kahlo : an open life</td>\n",
              "      <td>Schema.org: publishedBy</td>\n",
              "      <td>https://www.worldcat.org/identities/lccn-no200...</td>\n",
              "    </tr>\n",
              "    <tr>\n",
              "      <th>6</th>\n",
              "      <td>Frida Kahlo : an open life</td>\n",
              "      <td>dcterm: language</td>\n",
              "      <td>https://www.wikidata.org/wiki/Q1860</td>\n",
              "    </tr>\n",
              "  </tbody>\n",
              "</table>\n",
              "</div>\n",
              "      <button class=\"colab-df-convert\" onclick=\"convertToInteractive('df-7591d0e2-964d-497e-b443-7255f2693e06')\"\n",
              "              title=\"Convert this dataframe to an interactive table.\"\n",
              "              style=\"display:none;\">\n",
              "        \n",
              "  <svg xmlns=\"http://www.w3.org/2000/svg\" height=\"24px\"viewBox=\"0 0 24 24\"\n",
              "       width=\"24px\">\n",
              "    <path d=\"M0 0h24v24H0V0z\" fill=\"none\"/>\n",
              "    <path d=\"M18.56 5.44l.94 2.06.94-2.06 2.06-.94-2.06-.94-.94-2.06-.94 2.06-2.06.94zm-11 1L8.5 8.5l.94-2.06 2.06-.94-2.06-.94L8.5 2.5l-.94 2.06-2.06.94zm10 10l.94 2.06.94-2.06 2.06-.94-2.06-.94-.94-2.06-.94 2.06-2.06.94z\"/><path d=\"M17.41 7.96l-1.37-1.37c-.4-.4-.92-.59-1.43-.59-.52 0-1.04.2-1.43.59L10.3 9.45l-7.72 7.72c-.78.78-.78 2.05 0 2.83L4 21.41c.39.39.9.59 1.41.59.51 0 1.02-.2 1.41-.59l7.78-7.78 2.81-2.81c.8-.78.8-2.07 0-2.86zM5.41 20L4 18.59l7.72-7.72 1.47 1.35L5.41 20z\"/>\n",
              "  </svg>\n",
              "      </button>\n",
              "      \n",
              "  <style>\n",
              "    .colab-df-container {\n",
              "      display:flex;\n",
              "      flex-wrap:wrap;\n",
              "      gap: 12px;\n",
              "    }\n",
              "\n",
              "    .colab-df-convert {\n",
              "      background-color: #E8F0FE;\n",
              "      border: none;\n",
              "      border-radius: 50%;\n",
              "      cursor: pointer;\n",
              "      display: none;\n",
              "      fill: #1967D2;\n",
              "      height: 32px;\n",
              "      padding: 0 0 0 0;\n",
              "      width: 32px;\n",
              "    }\n",
              "\n",
              "    .colab-df-convert:hover {\n",
              "      background-color: #E2EBFA;\n",
              "      box-shadow: 0px 1px 2px rgba(60, 64, 67, 0.3), 0px 1px 3px 1px rgba(60, 64, 67, 0.15);\n",
              "      fill: #174EA6;\n",
              "    }\n",
              "\n",
              "    [theme=dark] .colab-df-convert {\n",
              "      background-color: #3B4455;\n",
              "      fill: #D2E3FC;\n",
              "    }\n",
              "\n",
              "    [theme=dark] .colab-df-convert:hover {\n",
              "      background-color: #434B5C;\n",
              "      box-shadow: 0px 1px 3px 1px rgba(0, 0, 0, 0.15);\n",
              "      filter: drop-shadow(0px 1px 2px rgba(0, 0, 0, 0.3));\n",
              "      fill: #FFFFFF;\n",
              "    }\n",
              "  </style>\n",
              "\n",
              "      <script>\n",
              "        const buttonEl =\n",
              "          document.querySelector('#df-7591d0e2-964d-497e-b443-7255f2693e06 button.colab-df-convert');\n",
              "        buttonEl.style.display =\n",
              "          google.colab.kernel.accessAllowed ? 'block' : 'none';\n",
              "\n",
              "        async function convertToInteractive(key) {\n",
              "          const element = document.querySelector('#df-7591d0e2-964d-497e-b443-7255f2693e06');\n",
              "          const dataTable =\n",
              "            await google.colab.kernel.invokeFunction('convertToInteractive',\n",
              "                                                     [key], {});\n",
              "          if (!dataTable) return;\n",
              "\n",
              "          const docLinkHtml = 'Like what you see? Visit the ' +\n",
              "            '<a target=\"_blank\" href=https://colab.research.google.com/notebooks/data_table.ipynb>data table notebook</a>'\n",
              "            + ' to learn more about interactive tables.';\n",
              "          element.innerHTML = '';\n",
              "          dataTable['output_type'] = 'display_data';\n",
              "          await google.colab.output.renderOutput(dataTable, element);\n",
              "          const docLink = document.createElement('div');\n",
              "          docLink.innerHTML = docLinkHtml;\n",
              "          element.appendChild(docLink);\n",
              "        }\n",
              "      </script>\n",
              "    </div>\n",
              "  </div>\n",
              "  "
            ]
          },
          "metadata": {},
          "execution_count": 8
        }
      ]
    },
    {
      "cell_type": "code",
      "source": [
        "word_regex_pattern = re.compile(\"[^A-Za-z0-9]+\")\n",
        "\n",
        "def camel(chars): # URI in Camel Case - useful for english version\n",
        "  words = word_regex_pattern.split(chars)\n",
        "  return \"\".join(w.lower().strip() if i is 0 else w.title() for i, w in enumerate(words))\n",
        "\n",
        "def diacritics(chars): # get rid of diacritics and normalise text - useful for italian language\n",
        "  normalized = unicodedata.normalize(\"NFKD\", chars)\n",
        "  return \"\".join(c for c in normalized if unicodedata.category(c) != \"Mn\")"
      ],
      "metadata": {
        "id": "IloNubPdBYa3"
      },
      "execution_count": 9,
      "outputs": []
    },
    {
      "cell_type": "code",
      "source": [
        "g = Graph() \n",
        "\n",
        "frida = Namespace(\"https://w3id.org/fridalod/\")\n",
        "efrbroo = Namespace(\"http://erlangen-crm.org/efrbroo/\") \n",
        "dct = Namespace(\"http://purl.org/dc/terms/\")\n",
        "ecrm = Namespace(\"http://erlangen-crm.org/current/\")\n",
        "rdfs = Namespace (\"http://www.w3.org/2000/01/rdf-schema#\")\n",
        "sch = Namespace (\"http://schema.org\")"
      ],
      "metadata": {
        "id": "6PWx6pSlBZkT"
      },
      "execution_count": 10,
      "outputs": []
    },
    {
      "cell_type": "code",
      "source": [
        "g.bind('efrbroo', efrbroo)\n",
        "g.bind('frida', frida)\n",
        "g.bind('dct', dct)\n",
        "g.bind('ecrm', ecrm)\n",
        "g.bind('sch', sch)"
      ],
      "metadata": {
        "id": "H_JOnCv0DOYb"
      },
      "execution_count": 11,
      "outputs": []
    },
    {
      "cell_type": "code",
      "source": [
        "for (idx, row) in df.iterrows():\n",
        "  Subject = (str(row.Subject).replace(\" \",\"\"))\n",
        "  Predicate = (str(row.Predicate).replace(\" \",\"\"))\n",
        "  Object = (str(row.Object).replace(\" \",\"\"))\n",
        "\n",
        "\n",
        "  link = URIRef(frida + Subject)\n",
        "\n",
        "g.add((link, RDF.type, FOAF.Person))\n",
        "g.add((bob, FOAF.knows, alice))\n",
        "g.add((bob, FOAF['topic_interest'], mona_lisa))\n",
        "g.add((bob, SDO['birthDate'], birth_date))\n",
        "g.add((mona_lisa, DCTERMS['creator'], davinci))\n",
        "g.add((mona_lisa, DCTERMS['title'], title))\n",
        "g.add((lajoconde, DCTERMS['subject'], mona_lisa))"
      ],
      "metadata": {
        "colab": {
          "base_uri": "https://localhost:8080/",
          "height": 35
        },
        "id": "IWHvxsweD4o_",
        "outputId": "fc863b6a-e120-4b1b-cbe9-8d3045076cf1"
      },
      "execution_count": 23,
      "outputs": [
        {
          "output_type": "execute_result",
          "data": {
            "text/plain": [
              "'FridaKahlo:anopenlife'"
            ],
            "application/vnd.google.colaboratory.intrinsic+json": {
              "type": "string"
            }
          },
          "metadata": {},
          "execution_count": 23
        }
      ]
    }
  ]
}